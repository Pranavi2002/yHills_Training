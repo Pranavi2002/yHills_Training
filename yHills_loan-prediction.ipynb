{
 "cells": [
  {
   "cell_type": "code",
   "execution_count": 2,
   "id": "344bc2e9",
   "metadata": {},
   "outputs": [],
   "source": [
    "### Apply the following algorithms on loan_prediction.csv file:\n",
    "# Logistic\n",
    "# KNN\n",
    "# NB\n",
    "# Bagging\n",
    "# AdaBoost\n",
    "# Decision Tree\n",
    "# GradientBoost\n",
    "# Random Forest\n",
    "\n",
    "### Perform classification\n",
    "\n",
    "### Drop Loan_ID column\n",
    "### Perform one-hot encoding for object data types except for Dependents, Loan_Status columns\n",
    "### Convert Dependents column to integer, Change 3+ to 4 in Dependents column and then perform one-hot encoding"
   ]
  },
  {
   "cell_type": "code",
   "execution_count": null,
   "id": "e265d220",
   "metadata": {},
   "outputs": [],
   "source": []
  }
 ],
 "metadata": {
  "kernelspec": {
   "display_name": "Python 3",
   "language": "python",
   "name": "python3"
  },
  "language_info": {
   "codemirror_mode": {
    "name": "ipython",
    "version": 3
   },
   "file_extension": ".py",
   "mimetype": "text/x-python",
   "name": "python",
   "nbconvert_exporter": "python",
   "pygments_lexer": "ipython3",
   "version": "3.8.8"
  }
 },
 "nbformat": 4,
 "nbformat_minor": 5
}
